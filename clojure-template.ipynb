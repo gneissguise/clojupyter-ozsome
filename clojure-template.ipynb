{
 "cells": [
  {
   "cell_type": "markdown",
   "metadata": {},
   "source": [
    "## Clojupyter using Oz for dataviz"
   ]
  },
  {
   "cell_type": "code",
   "execution_count": 2,
   "metadata": {},
   "outputs": [],
   "source": [
    "(require '[clojupyter.misc.helper :as helper])\n",
    "(helper/add-dependencies '[metasoarous/oz \"1.6.0-alpha6\"])\n",
    "(require '[oz.notebook.clojupyter :as oz])"
   ]
  },
  {
   "cell_type": "code",
   "execution_count": 5,
   "metadata": {},
   "outputs": [
    {
     "data": {
      "text/plain": [
       "#'user/play-data"
      ]
     },
     "execution_count": 5,
     "metadata": {},
     "output_type": "execute_result"
    }
   ],
   "source": [
    ";; Dummy data generator\n",
    "(defn play-data [& names]\n",
    "  (for [n names\n",
    "        i (range 20)]\n",
    "    {:time i :item n :quantity (+ (Math/pow (* i (count n)) 0.8) (rand-int (count n)))}))"
   ]
  },
  {
   "cell_type": "code",
   "execution_count": 6,
   "metadata": {},
   "outputs": [
    {
     "data": {
      "text/plain": [
       "#'user/line-plot"
      ]
     },
     "execution_count": 6,
     "metadata": {},
     "output_type": "execute_result"
    }
   ],
   "source": [
    ";; Simple line plot\n",
    "(def line-plot\n",
    "  {:data {:values (play-data \"monkey\" \"slipper\" \"broom\")}\n",
    "   :encoding {:x {:field \"time\" :type \"quantitative\"}\n",
    "              :y {:field \"quantity\" :type \"quantitative\"}\n",
    "              :color {:field \"item\" :type \"nominal\"}}\n",
    "   :mark \"line\"})"
   ]
  },
  {
   "cell_type": "code",
   "execution_count": 7,
   "metadata": {},
   "outputs": [
    {
     "data": {
      "text/html": [
       "\n",
       "<div>\n",
       "  <div id='uuid-569314b6-3785-475d-9107-1b43a1e97c60'></div>\n",
       "  <script>\n",
       "  requirejs.config({\n",
       "    baseUrl: 'https://cdn.jsdelivr.net/npm/',\n",
       "    paths: {\n",
       "      'vega-embed':  'vega-embed@3?noext',\n",
       "      'vega-lib': 'vega-lib?noext',\n",
       "      'vega-lite': 'vega-lite@2?noext',\n",
       "      'vega': 'vega@3?noext'\n",
       "    }\n",
       "  });\n",
       "  require(['vega-embed'], function(vegaEmbed) {\n",
       "    let spec = {\"data\":{\"values\":[{\"time\":0,\"item\":\"monkey\",\"quantity\":4.0},{\"time\":1,\"item\":\"monkey\",\"quantity\":4.192962712629476},{\"time\":2,\"item\":\"monkey\",\"quantity\":11.30037210271847},{\"time\":3,\"item\":\"monkey\",\"quantity\":11.097596309015797},{\"time\":4,\"item\":\"monkey\",\"quantity\":12.71068609258575},{\"time\":5,\"item\":\"monkey\",\"quantity\":16.194870523363548},{\"time\":6,\"item\":\"monkey\",\"quantity\":19.580936309501134},{\"time\":7,\"item\":\"monkey\",\"quantity\":19.888381054913122},{\"time\":8,\"item\":\"monkey\",\"quantity\":27.13058987556147},{\"time\":9,\"item\":\"monkey\",\"quantity\":29.317280693371046},{\"time\":10,\"item\":\"monkey\",\"quantity\":28.45580618665162},{\"time\":11,\"item\":\"monkey\",\"quantity\":29.55190884598056},{\"time\":12,\"item\":\"monkey\",\"quantity\":35.610188015018984},{\"time\":13,\"item\":\"monkey\",\"quantity\":35.63440373999379},{\"time\":14,\"item\":\"monkey\",\"quantity\":34.62768266080517},{\"time\":15,\"item\":\"monkey\",\"quantity\":41.59266228400805},{\"time\":16,\"item\":\"monkey\",\"quantity\":39.53159496449108},{\"time\":17,\"item\":\"monkey\",\"quantity\":44.44642466614132},{\"time\":18,\"item\":\"monkey\",\"quantity\":42.338844810888254},{\"time\":19,\"item\":\"monkey\",\"quantity\":45.21034266761982},{\"time\":0,\"item\":\"slipper\",\"quantity\":2.0},{\"time\":1,\"item\":\"slipper\",\"quantity\":9.743276393803367},{\"time\":2,\"item\":\"slipper\",\"quantity\":9.258523872989459},{\"time\":3,\"item\":\"slipper\",\"quantity\":16.422875300666448},{\"time\":4,\"item\":\"slipper\",\"quantity\":14.378925219250926},{\"time\":5,\"item\":\"slipper\",\"quantity\":19.189151347155786},{\"time\":6,\"item\":\"slipper\",\"quantity\":19.888381054913122},{\"time\":7,\"item\":\"slipper\",\"quantity\":28.498670948012276},{\"time\":8,\"item\":\"slipper\",\"quantity\":28.03516289842348},{\"time\":9,\"item\":\"slipper\",\"quantity\":31.508850275948053},{\"time\":10,\"item\":\"slipper\",\"quantity\":33.9280507756976},{\"time\":11,\"item\":\"slipper\",\"quantity\":35.299260572778856},{\"time\":12,\"item\":\"slipper\",\"quantity\":37.62768266080517},{\"time\":13,\"item\":\"slipper\",\"quantity\":39.9175705807045},{\"time\":14,\"item\":\"slipper\",\"quantity\":39.17246133441246},{\"time\":15,\"item\":\"slipper\",\"quantity\":45.39533859324643},{\"time\":16,\"item\":\"slipper\",\"quantity\":47.58875032686557},{\"time\":17,\"item\":\"slipper\",\"quantity\":46.75489563854074},{\"time\":18,\"item\":\"slipper\",\"quantity\":49.89569020671064},{\"time\":19,\"item\":\"slipper\",\"quantity\":51.012816499808885},{\"time\":0,\"item\":\"broom\",\"quantity\":0.0},{\"time\":1,\"item\":\"broom\",\"quantity\":5.623898318388478},{\"time\":2,\"item\":\"broom\",\"quantity\":9.309573444801934},{\"time\":3,\"item\":\"broom\",\"quantity\":11.727161387290321},{\"time\":4,\"item\":\"broom\",\"quantity\":14.98560543306118},{\"time\":5,\"item\":\"broom\",\"quantity\":16.132639022018836},{\"time\":6,\"item\":\"broom\",\"quantity\":18.194870523363548},{\"time\":7,\"item\":\"broom\",\"quantity\":17.189151347155786},{\"time\":8,\"item\":\"broom\",\"quantity\":19.127049995800743},{\"time\":9,\"item\":\"broom\",\"quantity\":21.016965485301043},{\"time\":10,\"item\":\"broom\",\"quantity\":22.86525259636632},{\"time\":11,\"item\":\"broom\",\"quantity\":28.676874454922782},{\"time\":12,\"item\":\"broom\",\"quantity\":28.45580618665162},{\"time\":13,\"item\":\"broom\",\"quantity\":28.205297528345778},{\"time\":14,\"item\":\"broom\",\"quantity\":29.928050775697603},{\"time\":15,\"item\":\"broom\",\"quantity\":31.626345475706252},{\"time\":16,\"item\":\"broom\",\"quantity\":34.30212829607493},{\"time\":17,\"item\":\"broom\",\"quantity\":35.95707936800063},{\"time\":18,\"item\":\"broom\",\"quantity\":40.59266228400805},{\"time\":19,\"item\":\"broom\",\"quantity\":40.210162462449645}]},\"encoding\":{\"x\":{\"field\":\"time\",\"type\":\"quantitative\"},\"y\":{\"field\":\"quantity\",\"type\":\"quantitative\"},\"color\":{\"field\":\"item\",\"type\":\"nominal\"}},\"mark\":\"line\"};\n",
       "    vegaEmbed('#uuid-569314b6-3785-475d-9107-1b43a1e97c60', spec, {defaultStyle:true}).catch(console.warn);\n",
       "    }, function(err) {\n",
       "    console.log('Failed to load');\n",
       "  });\n",
       "  </script>\n",
       "</div>\n",
       "  "
      ]
     },
     "execution_count": 7,
     "metadata": {},
     "output_type": "execute_result"
    }
   ],
   "source": [
    ";; Render the plot\n",
    "(oz/view! line-plot)"
   ]
  },
  {
   "cell_type": "code",
   "execution_count": null,
   "metadata": {},
   "outputs": [],
   "source": []
  }
 ],
 "metadata": {
  "kernelspec": {
   "display_name": "Clojure",
   "language": "clojure",
   "name": "clojure"
  },
  "language_info": {
   "file_extension": ".clj",
   "mimetype": "text/x-clojure",
   "name": "clojure",
   "version": "1.8.0"
  }
 },
 "nbformat": 4,
 "nbformat_minor": 2
}
